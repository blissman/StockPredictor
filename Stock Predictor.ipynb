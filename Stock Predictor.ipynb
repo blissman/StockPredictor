{
 "cells": [
  {
   "cell_type": "code",
   "execution_count": 72,
   "metadata": {},
   "outputs": [
    {
     "name": "stdout",
     "output_type": "stream",
     "text": [
      "{\n",
      "    \"Error Message\": \"the parameter apikey is invalid or missing. Please claim your free API key on (https://www.alphavantage.co/support/#api-key). It should take less than 20 seconds.\"\n",
      "}\n"
     ]
    }
   ],
   "source": [
    "import pandas as pd\n",
    "import requests\n",
    "import json\n",
    "from sklearn.tree import DecisionTreeRegressor\n",
    "from sklearn.model_selection import train_test_split # use train_test_split to separate train and test set\n",
    "from sklearn.metrics import accuracy_score # use accuracy_score to validate model\n",
    "import joblib # import joblib to export model to file\n",
    "\n",
    "stockRequest = requests.get(\"https://www.alphavantage.co/query\", params = {\n",
    "    \"function\": \"TIME_SERIES_DAILY_ADJUSTED\",\n",
    "    \"symbol\": \"AAPL\",\n",
    "    \"outputsize\": \"full\", # \"compact\" returns the latest 100 points, \"full\" returns all points available\n",
    "    \"apikey\": \"\" # include your api key here\n",
    "})\n",
    "\n",
    "try:\n",
    "    stockData = pd.read_json(json.dumps(stockRequest.json()[\"Time Series (Daily)\"]))\n",
    "except:\n",
    "    print(stockRequest.text)\n"
   ]
  },
  {
   "cell_type": "code",
   "execution_count": 73,
   "metadata": {},
   "outputs": [],
   "source": [
    "dataFrame = pd.DataFrame.transpose(stockData)\n",
    "X = dataFrame.drop(columns=[\"4. close\", \"5. adjusted close\"])\n",
    "y = dataFrame[\"5. adjusted close\"]\n",
    "X_train, X_test, y_train, y_test = train_test_split(X, y, test_size=0.2)"
   ]
  },
  {
   "cell_type": "code",
   "execution_count": 74,
   "metadata": {},
   "outputs": [
    {
     "data": {
      "text/plain": [
       "['stock-predictor.joblib']"
      ]
     },
     "execution_count": 74,
     "metadata": {},
     "output_type": "execute_result"
    }
   ],
   "source": [
    "model = DecisionTreeRegressor()\n",
    "model.fit(X_train, y_train)\n",
    "joblib.dump(model, 'stock-predictor.joblib')"
   ]
  },
  {
   "cell_type": "code",
   "execution_count": null,
   "metadata": {},
   "outputs": [],
   "source": []
  }
 ],
 "metadata": {
  "kernelspec": {
   "display_name": "Python 3",
   "language": "python",
   "name": "python3"
  },
  "language_info": {
   "codemirror_mode": {
    "name": "ipython",
    "version": 3
   },
   "file_extension": ".py",
   "mimetype": "text/x-python",
   "name": "python",
   "nbconvert_exporter": "python",
   "pygments_lexer": "ipython3",
   "version": "3.8.5"
  }
 },
 "nbformat": 4,
 "nbformat_minor": 4
}
